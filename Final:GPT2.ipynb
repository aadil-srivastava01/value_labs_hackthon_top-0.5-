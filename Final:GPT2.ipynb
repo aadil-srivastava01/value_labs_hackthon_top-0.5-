{
 "cells": [
  {
   "cell_type": "code",
   "execution_count": null,
   "metadata": {
    "colab": {},
    "colab_type": "code",
    "id": "PDUs8NZcO27U"
   },
   "outputs": [],
   "source": [
    "import numpy as np\n",
    "import pandas as pd"
   ]
  },
  {
   "cell_type": "code",
   "execution_count": null,
   "metadata": {
    "colab": {},
    "colab_type": "code",
    "id": "UF3-AYAUPJIa"
   },
   "outputs": [],
   "source": [
    "df = pd.read_csv('/content/Train.csv')\n",
    "df_test = pd.read_csv('/content/Test.csv')"
   ]
  },
  {
   "cell_type": "markdown",
   "metadata": {
    "colab_type": "text",
    "id": "Ky7EIGH_NpbU"
   },
   "source": [
    "<b>Let's fix the abnormal punctuations"
   ]
  },
  {
   "cell_type": "code",
   "execution_count": null,
   "metadata": {
    "colab": {},
    "colab_type": "code",
    "id": "MDSFHAJNPQcr"
   },
   "outputs": [],
   "source": [
    "# punct = \"/-'?!.,#$%\\'()*+-/:;<=>@[\\\\]^_`{|}~\" + '\"\"“”’' + '∞θ÷α•à−β∅³π‘₹´°£€\\×™√²—–&'\n",
    "punct = \"/-?!.,#$%\\()*+-/:;<=>@[\\\\]^_`{|}~\" + '\"\"“”’' + '∞θ÷α•à−β∅³π‘₹´°£€\\×™√²—–&'\n",
    "def fix_punt(sentence,punct):\n",
    "    \n",
    "    for p in punct:\n",
    "#         sentence = sentence.replace(p, f' {p} ')\n",
    "        sentence = sentence.replace(p, f'')\n",
    "    return sentence"
   ]
  },
  {
   "cell_type": "code",
   "execution_count": null,
   "metadata": {
    "colab": {},
    "colab_type": "code",
    "id": "T1_nqTuJN4sf"
   },
   "outputs": [],
   "source": [
    "df['new_questions'] = df['question'].apply(lambda x: fix_punt(x,punct))\n",
    "df['new_answers'] = df['answer_text'].apply(lambda x: fix_punt(x,punct))"
   ]
  },
  {
   "cell_type": "markdown",
   "metadata": {
    "colab_type": "text",
    "id": "_bWuLA4mOGa_"
   },
   "source": [
    "__Also, let's combine all the text including distractors, answers and questions, reason being:__\n",
    " * I will increase the length of text corpus, thus we'll have more data to train the model.\n",
    " * The combined corpus will help model to understand the context of distractors with respect to provided questions and answers, thus model might generate better text when question and answer are provided to it as an input later."
   ]
  },
  {
   "cell_type": "code",
   "execution_count": null,
   "metadata": {
    "colab": {},
    "colab_type": "code",
    "id": "g6GyXJdRN419"
   },
   "outputs": [],
   "source": [
    "df[\"new\"] = df[\"new_questions\"].map(str) + \" \" + df[\"new_answers\"]"
   ]
  },
  {
   "cell_type": "code",
   "execution_count": null,
   "metadata": {
    "colab": {},
    "colab_type": "code",
    "id": "M0Lp5kRTN49h"
   },
   "outputs": [],
   "source": [
    "df['dist'] = df['distractor'].apply(lambda x: fix_punt(x,punct+\"'\"))\n",
    "a = df['dist'][1]"
   ]
  },
  {
   "cell_type": "code",
   "execution_count": null,
   "metadata": {
    "colab": {},
    "colab_type": "code",
    "id": "WzIIDObyOEu_"
   },
   "outputs": [],
   "source": [
    "df['new_corpus'] = df[\"new\"].map(str) + \" \" + df[\"dist\"]"
   ]
  },
  {
   "cell_type": "code",
   "execution_count": null,
   "metadata": {
    "colab": {},
    "colab_type": "code",
    "id": "aEvvrULQN4_o"
   },
   "outputs": [],
   "source": [
    "import re\n",
    "df['new_corpus'] = df['new_corpus'].apply(lambda x: re.sub(' +', ' ',x).strip())"
   ]
  },
  {
   "cell_type": "code",
   "execution_count": 9,
   "metadata": {
    "colab": {
     "base_uri": "https://localhost:8080/",
     "height": 456
    },
    "colab_type": "code",
    "id": "5KvWywBaPSVd",
    "outputId": "301cf9be-929c-4978-cef9-0ef82325f846"
   },
   "outputs": [
    {
     "data": {
      "text/html": [
       "<div>\n",
       "<style scoped>\n",
       "    .dataframe tbody tr th:only-of-type {\n",
       "        vertical-align: middle;\n",
       "    }\n",
       "\n",
       "    .dataframe tbody tr th {\n",
       "        vertical-align: top;\n",
       "    }\n",
       "\n",
       "    .dataframe thead th {\n",
       "        text-align: right;\n",
       "    }\n",
       "</style>\n",
       "<table border=\"1\" class=\"dataframe\">\n",
       "  <thead>\n",
       "    <tr style=\"text-align: right;\">\n",
       "      <th></th>\n",
       "      <th>question</th>\n",
       "      <th>answer_text</th>\n",
       "      <th>distractor</th>\n",
       "      <th>new_questions</th>\n",
       "      <th>new_answers</th>\n",
       "      <th>new</th>\n",
       "      <th>dist</th>\n",
       "      <th>new_corpus</th>\n",
       "    </tr>\n",
       "  </thead>\n",
       "  <tbody>\n",
       "    <tr>\n",
       "      <th>0</th>\n",
       "      <td>Meals can be served</td>\n",
       "      <td>in rooms at 9:00 p. m.</td>\n",
       "      <td>'outside the room at 3:00 p. m.', 'in the dini...</td>\n",
       "      <td>Meals can be served</td>\n",
       "      <td>in rooms at 900 p m</td>\n",
       "      <td>Meals can be served in rooms at 900 p m</td>\n",
       "      <td>outside the room at 300 p m in the dining  roo...</td>\n",
       "      <td>Meals can be served in rooms at 900 p m outsid...</td>\n",
       "    </tr>\n",
       "    <tr>\n",
       "      <th>1</th>\n",
       "      <td>It can be inferred from the passage that</td>\n",
       "      <td>The local government can deal with the problem...</td>\n",
       "      <td>'If some tragedies occur again ', ' relevant d...</td>\n",
       "      <td>It can be inferred from the passage that</td>\n",
       "      <td>The local government can deal with the problem...</td>\n",
       "      <td>It can be inferred from the passage that The l...</td>\n",
       "      <td>If some tragedies occur again   relevant depar...</td>\n",
       "      <td>It can be inferred from the passage that The l...</td>\n",
       "    </tr>\n",
       "    <tr>\n",
       "      <th>2</th>\n",
       "      <td>The author called Tommy 's parents in order to</td>\n",
       "      <td>help them realize their influence on Tommy</td>\n",
       "      <td>'blame Tommy for his failing grades', 'blame T...</td>\n",
       "      <td>The author called Tommy 's parents in order to</td>\n",
       "      <td>help them realize their influence on Tommy</td>\n",
       "      <td>The author called Tommy 's parents in order to...</td>\n",
       "      <td>blame Tommy for his failing grades blame Tommy...</td>\n",
       "      <td>The author called Tommy 's parents in order to...</td>\n",
       "    </tr>\n",
       "    <tr>\n",
       "      <th>3</th>\n",
       "      <td>It can be inferred from the passage that</td>\n",
       "      <td>the writer is not very willing to use idioms</td>\n",
       "      <td>'idioms are the most important part in a langu...</td>\n",
       "      <td>It can be inferred from the passage that</td>\n",
       "      <td>the writer is not very willing to use idioms</td>\n",
       "      <td>It can be inferred from the passage that the w...</td>\n",
       "      <td>idioms are the most important part in a langua...</td>\n",
       "      <td>It can be inferred from the passage that the w...</td>\n",
       "    </tr>\n",
       "    <tr>\n",
       "      <th>4</th>\n",
       "      <td>How can we deal with snake wounds according to...</td>\n",
       "      <td>Stay calm and do n't move .</td>\n",
       "      <td>'Cut the wound and suck the poison out .'</td>\n",
       "      <td>How can we deal with snake wounds according to...</td>\n",
       "      <td>Stay calm and do n't move</td>\n",
       "      <td>How can we deal with snake wounds according to...</td>\n",
       "      <td>Cut the wound and suck the poison out</td>\n",
       "      <td>How can we deal with snake wounds according to...</td>\n",
       "    </tr>\n",
       "  </tbody>\n",
       "</table>\n",
       "</div>"
      ],
      "text/plain": [
       "                                            question  ...                                         new_corpus\n",
       "0                                Meals can be served  ...  Meals can be served in rooms at 900 p m outsid...\n",
       "1           It can be inferred from the passage that  ...  It can be inferred from the passage that The l...\n",
       "2     The author called Tommy 's parents in order to  ...  The author called Tommy 's parents in order to...\n",
       "3           It can be inferred from the passage that  ...  It can be inferred from the passage that the w...\n",
       "4  How can we deal with snake wounds according to...  ...  How can we deal with snake wounds according to...\n",
       "\n",
       "[5 rows x 8 columns]"
      ]
     },
     "execution_count": 9,
     "metadata": {
      "tags": []
     },
     "output_type": "execute_result"
    }
   ],
   "source": [
    "df.head()"
   ]
  },
  {
   "cell_type": "code",
   "execution_count": null,
   "metadata": {
    "colab": {},
    "colab_type": "code",
    "id": "sum1iih6OTvg"
   },
   "outputs": [],
   "source": [
    "df= df.drop(labels=['new_questions','new_answers','dist'], axis=1)"
   ]
  },
  {
   "cell_type": "code",
   "execution_count": 11,
   "metadata": {
    "colab": {
     "base_uri": "https://localhost:8080/",
     "height": 72
    },
    "colab_type": "code",
    "id": "F-ztikuiOTyA",
    "outputId": "a58eba07-4c97-4e21-ff8b-933d4849e617"
   },
   "outputs": [
    {
     "name": "stderr",
     "output_type": "stream",
     "text": [
      "/usr/local/lib/python3.6/dist-packages/ipykernel_launcher.py:1: FutureWarning: The signature of `Series.to_csv` was aligned to that of `DataFrame.to_csv`, and argument 'header' will change its default value from False to True: please pass an explicit value to suppress this warning.\n",
      "  \"\"\"Entry point for launching an IPython kernel.\n"
     ]
    }
   ],
   "source": [
    "df['new_corpus'].to_csv('data.csv', index=False)"
   ]
  },
  {
   "cell_type": "markdown",
   "metadata": {
    "colab_type": "text",
    "id": "wuCc9AQnQrXV"
   },
   "source": [
    "<b>We are going to use pretrained [GPT-2 model (small)](https://openai.com/blog/better-language-models/) by finetunining it on our dataset for generating distractors."
   ]
  },
  {
   "cell_type": "code",
   "execution_count": 12,
   "metadata": {
    "colab": {
     "base_uri": "https://localhost:8080/",
     "height": 70
    },
    "colab_type": "code",
    "id": "CbTrXwQXPWtZ",
    "outputId": "cb471dbb-f5ca-4d02-80a5-ede1b4269991"
   },
   "outputs": [
    {
     "name": "stdout",
     "output_type": "stream",
     "text": [
      "\u001b[K     |████████████████████████████████| 655kB 16.7MB/s eta 0:00:01\n",
      "\u001b[?25h  Building wheel for gpt-2-simple (setup.py) ... \u001b[?25l\u001b[?25hdone\n",
      "  Building wheel for regex (setup.py) ... \u001b[?25l\u001b[?25hdone\n"
     ]
    }
   ],
   "source": [
    "!pip install -q gpt-2-simple"
   ]
  },
  {
   "cell_type": "code",
   "execution_count": null,
   "metadata": {
    "colab": {},
    "colab_type": "code",
    "id": "n4eFJHbGPlMp"
   },
   "outputs": [],
   "source": [
    "import gpt_2_simple as gpt2"
   ]
  },
  {
   "cell_type": "code",
   "execution_count": 14,
   "metadata": {
    "colab": {
     "base_uri": "https://localhost:8080/",
     "height": 141
    },
    "colab_type": "code",
    "id": "iZ9VyvIYPwpU",
    "outputId": "8f02ac04-f6da-4a8b-f701-dd44d2217075"
   },
   "outputs": [
    {
     "name": "stderr",
     "output_type": "stream",
     "text": [
      "Fetching checkpoint: 1.05Mit [00:00, 521Mit/s]                                                      \n",
      "Fetching encoder.json: 1.05Mit [00:00, 99.4Mit/s]                                                   \n",
      "Fetching hparams.json: 1.05Mit [00:00, 326Mit/s]                                                    \n",
      "Fetching model.ckpt.data-00000-of-00001: 498Mit [00:04, 107Mit/s]                                   \n",
      "Fetching model.ckpt.index: 1.05Mit [00:00, 453Mit/s]                                                \n",
      "Fetching model.ckpt.meta: 1.05Mit [00:00, 198Mit/s]                                                 \n",
      "Fetching vocab.bpe: 1.05Mit [00:00, 209Mit/s]                                                       \n"
     ]
    }
   ],
   "source": [
    "gpt2.download_gpt2()"
   ]
  },
  {
   "cell_type": "markdown",
   "metadata": {
    "colab_type": "text",
    "id": "n-qmLy_LRZsi"
   },
   "source": [
    "__Finetuning the model on Google Colab using GPU so as to speed up the process__"
   ]
  },
  {
   "cell_type": "code",
   "execution_count": 15,
   "metadata": {
    "colab": {
     "base_uri": "https://localhost:8080/",
     "height": 318
    },
    "colab_type": "code",
    "id": "yiBnS5V0P9oy",
    "outputId": "db5eec4c-d413-4243-a24c-e9f5496c3702"
   },
   "outputs": [
    {
     "name": "stdout",
     "output_type": "stream",
     "text": [
      "Mon Oct  7 05:10:25 2019       \n",
      "+-----------------------------------------------------------------------------+\n",
      "| NVIDIA-SMI 430.40       Driver Version: 418.67       CUDA Version: 10.1     |\n",
      "|-------------------------------+----------------------+----------------------+\n",
      "| GPU  Name        Persistence-M| Bus-Id        Disp.A | Volatile Uncorr. ECC |\n",
      "| Fan  Temp  Perf  Pwr:Usage/Cap|         Memory-Usage | GPU-Util  Compute M. |\n",
      "|===============================+======================+======================|\n",
      "|   0  Tesla K80           Off  | 00000000:00:04.0 Off |                    0 |\n",
      "| N/A   47C    P8    29W / 149W |      0MiB / 11441MiB |      0%      Default |\n",
      "+-------------------------------+----------------------+----------------------+\n",
      "                                                                               \n",
      "+-----------------------------------------------------------------------------+\n",
      "| Processes:                                                       GPU Memory |\n",
      "|  GPU       PID   Type   Process name                             Usage      |\n",
      "|=============================================================================|\n",
      "|  No running processes found                                                 |\n",
      "+-----------------------------------------------------------------------------+\n"
     ]
    }
   ],
   "source": [
    "!nvidia-smi"
   ]
  },
  {
   "cell_type": "code",
   "execution_count": 16,
   "metadata": {
    "colab": {
     "base_uri": "https://localhost:8080/",
     "height": 125
    },
    "colab_type": "code",
    "id": "cA0gbge9kTGQ",
    "outputId": "00779e87-d3c3-422f-c7ba-4ef42875db53"
   },
   "outputs": [
    {
     "name": "stdout",
     "output_type": "stream",
     "text": [
      "Go to this URL in a browser: https://accounts.google.com/o/oauth2/auth?client_id=947318989803-6bn6qk8qdgf4n4g3pfee6491hc0brc4i.apps.googleusercontent.com&redirect_uri=urn%3Aietf%3Awg%3Aoauth%3A2.0%3Aoob&scope=email%20https%3A%2F%2Fwww.googleapis.com%2Fauth%2Fdocs.test%20https%3A%2F%2Fwww.googleapis.com%2Fauth%2Fdrive%20https%3A%2F%2Fwww.googleapis.com%2Fauth%2Fdrive.photos.readonly%20https%3A%2F%2Fwww.googleapis.com%2Fauth%2Fpeopleapi.readonly&response_type=code\n",
      "\n",
      "Enter your authorization code:\n",
      "··········\n",
      "Mounted at /content/drive\n"
     ]
    }
   ],
   "source": [
    "gpt2.mount_gdrive()\n",
    "# gpt2.copy_checkpoint_from_gdrive()"
   ]
  },
  {
   "cell_type": "code",
   "execution_count": 17,
   "metadata": {
    "colab": {
     "base_uri": "https://localhost:8080/",
     "height": 1000
    },
    "colab_type": "code",
    "id": "1BDTkL8IP5zn",
    "outputId": "96590186-dbfc-41bd-c216-523ffc9049a3"
   },
   "outputs": [
    {
     "name": "stdout",
     "output_type": "stream",
     "text": [
      "WARNING:tensorflow:From /usr/local/lib/python3.6/dist-packages/gpt_2_simple/src/sample.py:17: add_dispatch_support.<locals>.wrapper (from tensorflow.python.ops.array_ops) is deprecated and will be removed in a future version.\n",
      "Instructions for updating:\n",
      "Use tf.where in 2.0, which has the same broadcast rule as np.where\n",
      "Loading checkpoint models/124M/model.ckpt\n",
      "WARNING:tensorflow:From /usr/local/lib/python3.6/dist-packages/tensorflow/python/training/saver.py:1276: checkpoint_exists (from tensorflow.python.training.checkpoint_management) is deprecated and will be removed in a future version.\n",
      "Instructions for updating:\n",
      "Use standard file APIs to check for files with this prefix.\n",
      "INFO:tensorflow:Restoring parameters from models/124M/model.ckpt\n"
     ]
    },
    {
     "name": "stderr",
     "output_type": "stream",
     "text": [
      "100%|██████████| 1/1 [00:00<00:00, 11.52it/s]"
     ]
    },
    {
     "name": "stdout",
     "output_type": "stream",
     "text": [
      "Loading dataset...\n"
     ]
    },
    {
     "name": "stderr",
     "output_type": "stream",
     "text": [
      "\n"
     ]
    },
    {
     "name": "stdout",
     "output_type": "stream",
     "text": [
      "dataset has 1584669 tokens\n",
      "Training...\n",
      "[10 | 50.50] loss=2.82 avg=2.82\n",
      "[20 | 93.71] loss=2.62 avg=2.72\n",
      "[30 | 136.90] loss=2.55 avg=2.66\n",
      "[40 | 179.96] loss=2.58 avg=2.64\n",
      "[50 | 223.05] loss=2.54 avg=2.62\n",
      "[60 | 266.10] loss=2.47 avg=2.59\n",
      "[70 | 309.32] loss=2.47 avg=2.58\n",
      "[80 | 352.53] loss=2.41 avg=2.55\n",
      "[90 | 395.74] loss=2.52 avg=2.55\n",
      "[100 | 438.89] loss=2.51 avg=2.54\n",
      "[110 | 482.05] loss=2.36 avg=2.53\n",
      "[120 | 525.25] loss=2.45 avg=2.52\n",
      "[130 | 568.36] loss=2.42 avg=2.51\n",
      "[140 | 611.56] loss=2.46 avg=2.51\n",
      "[150 | 654.76] loss=2.34 avg=2.50\n",
      "[160 | 697.96] loss=2.45 avg=2.49\n",
      "[170 | 741.17] loss=2.28 avg=2.48\n",
      "[180 | 784.38] loss=2.34 avg=2.47\n",
      "[190 | 827.58] loss=2.27 avg=2.46\n",
      "[200 | 870.74] loss=2.40 avg=2.46\n",
      "======== SAMPLE 1 ========\n",
      "text>The author did n't think of his first name at first because most people would have a mistake of grammar if their first name were changed it was too difficult for his parents to remember the correct spelling<|endoftext|>\n",
      "<|startoftext|>Which of the following statements is TRUE according to the passage A robot is a robot which can make decisions when needed robots have a special ability to think and act robots are made for different purposes robots should be kept in special places for certain tasks<|endoftext|>\n",
      "<|startoftext|>To use a car according to the passage what 's the best way to do it It s easy If you have a car it won't cost much It s hard to have a car at first<|endoftext|>\n",
      "<|startoftext|>Why does the writer do n't tell her friends how her son is Doing 's homework Because she ca n't bear to talk with the principal because she thinks everyone will be too scared to speak a word of her sorry if her son does wrong things Because she does nt worry about her son s homework because she thinks it s the only way to keep learning<|endoftext|>\n",
      "<|startoftext|>The passage mainly talks about the development of the US government 's efforts in promoting free travel in the US the impact on the US government s efforts in the US<|endoftext|>\n",
      "<|startoftext|>Which of the following sentences shows that the author did n't realize his mistake at first Because he thought the same thing from the beginning To know as much as he could about a boy who went to church without doing so Because he thought God s wisdom was hard to come by Because he thought the boys who had their wedding rings could understand what the new law meant To find the missing rings without realizing what God s wisdom was<|endoftext|>\n",
      "<|startoftext|>The writer wants to talk to the author at least a second time because for him her childhood is a perfect example of the way things change he wants to do the first time at any stage he will find the answers<|endoftext|>\n",
      "<|startoftext|>The writer uses a lot of words to indicate her concern at the fact that her mother does n't like her any more she ca nt get into the habit of saying what she thinks she can do much more<|endoftext|>\n",
      "<|startoftext|>It can be learned from the passage that people are less careful when they take their children to the hospital it is common to have a baby when a baby is taken to hospital it is the duty of parents to make a certain health and safety condition of their children<|endoftext|>\n",
      "<|startoftext|>What 's the text mainly about People ca n't be sure about their health when they eat too much Vegetables should be avoided at least in part People ca nt be sure that their health can be checked when they eat too much<|endoftext|>\n",
      "<|startoftext|>If you can eat breakfast at a restaurant in London you will know how much you like breakfast 's it shows people ' love for breakfast how many people in the restaurant have breakfast it shows that people always like to eat in it people often eat the breakfast they want in the restaurant<|endoftext|>\n",
      "<|startoftext|>From a very early age the writer learned a secret from his dad because he always talked to his father he always spoke to his father and always had a secret to his father<|endoftext|>\n",
      "<|startoftext|>What can be expected from the first article We should not buy the first book with our father 's help Parents ' mistakes caused the trouble of parents We should try to teach our sons how to make mistakes<|endoftext|>\n",
      "<|startoftext|>Which of the following is NOT a factor why more students will spend more time in studies One student does n't like working He does nt like to have his studies<|endoftext|>\n",
      "<|startoftext|>On a flight people can talk in class without difficulty but the passengers ca n't listen to them the passengers talk with no attention the passenger can listen to each comment without any difficulty the people ca nt learn anything from the passengers talk with no difficulty<|endoftext|>\n",
      "<|startoftext|>What is the main idea of the text To deal with all the advantages of reading To discuss the advantages of reading To compare the reading habits among the three groups To persuade the three groups of reading to read<|endoftext|>\n",
      "<|startoftext|>Which of the following is the best title of the story We can stop the war by peaceful means A peaceful and friendly war between the Soviet Union and the United States In the end the war\n",
      "\n",
      "[210 | 932.48] loss=2.32 avg=2.45\n",
      "[220 | 975.68] loss=2.30 avg=2.44\n",
      "[230 | 1018.88] loss=2.41 avg=2.44\n",
      "[240 | 1062.02] loss=2.40 avg=2.44\n",
      "[250 | 1105.21] loss=2.34 avg=2.43\n",
      "[260 | 1148.38] loss=2.32 avg=2.43\n",
      "[270 | 1191.59] loss=2.25 avg=2.42\n",
      "[280 | 1234.79] loss=2.32 avg=2.42\n",
      "[290 | 1278.00] loss=2.27 avg=2.41\n",
      "[300 | 1321.20] loss=2.35 avg=2.41\n",
      "[310 | 1364.31] loss=2.27 avg=2.40\n",
      "[320 | 1407.23] loss=2.35 avg=2.40\n",
      "[330 | 1450.37] loss=2.31 avg=2.40\n",
      "[340 | 1493.53] loss=2.28 avg=2.39\n",
      "[350 | 1536.73] loss=2.12 avg=2.38\n",
      "[360 | 1579.84] loss=2.20 avg=2.38\n",
      "[370 | 1623.02] loss=2.20 avg=2.37\n",
      "[380 | 1666.14] loss=2.22 avg=2.37\n",
      "[390 | 1709.30] loss=2.33 avg=2.37\n",
      "[400 | 1752.44] loss=2.11 avg=2.36\n",
      "======== SAMPLE 1 ========\n",
      "oftext|>\n",
      "<|startoftext|>In his early teens Tom played the piano well Tom was a good boy Tom took part in the school play<|endoftext|>\n",
      "<|startoftext|>What can we know from the passage The main idea of the passage was to teach children good ways to enjoy the outdoors Children have different feelings about the outdoors children like to walk around in the snow<|endoftext|>\n",
      "<|startoftext|>Which of the following is true according to the passage Some scientists think that the earth is getting colder and colder The earth is less and less icy The earth is getting thinner and thinner The earth is getting colder and colder The earth is getting more rocky and there are more holes<|endoftext|>\n",
      "<|startoftext|>In the author 's opinion learning the English is a good way to solve English problems to make it easy for others to find the answers to English questions to get more knowledge from the English<|endoftext|>\n",
      "<|startoftext|>How can scientists identify a problem with a satellite according to the text Some satellites are useless Some satellites are useful<|endoftext|>\n",
      "<|startoftext|>Why did the man feel annoyed Because he did n't like Mrs Turner 's music Because he saw Mrs Turner play a musical instrument Because he did nt hear Mrs Turner play a musical instrument Because he was not allowed to see Mrs Turner play a musical instrument Because he did nt want to play a musical instrument Because it was very cold at night<|endoftext|>\n",
      "<|startoftext|>It can be inferred from the passage that there is still much work to be done to make sure the world 's water reserves are not polluted the World Aquarium has done some important work to make water safe for visitors to see have a water filter on the roof of the aquarium s tank get a water filter on the roof of the aquarium s tank<|endoftext|>\n",
      "<|startoftext|>What 's the most important thing in understanding the language of this site To get more information about it To provide better advice on it To describe it To help others know it To help others understand it To explain it<|endoftext|>\n",
      "<|startoftext|>Which of the following statements is right The old lady had many different clothes for her The old lady had three bags of fish<|endoftext|>\n",
      "<|startoftext|>Why was the author criticized after the passage Her daughter was very poor Because she was a mother who did nt treat her children so nicely<|endoftext|>\n",
      "<|startoftext|>It is implied in the passage that the author often writes a letter to family and friends the author did nt take a trip to China for ten years<|endoftext|>\n",
      "<|startoftext|>According to the text which of the following can best explain the writer 's attitude toward his life His first love was to look after his father His second love was to keep others company<|endoftext|>\n",
      "<|startoftext|>In a sense that means He 's kind of him He s good at playing football<|endoftext|>\n",
      "<|startoftext|>According to the passage which of the following is the best way of expressing your feelings about the film The passage is written by one of the top directors of the film The text is given in order to make the film stand out from other films The passage is written mainly for kids to listen to The text mainly tells us what he is like after getting the movie The passage is told mainly from the director s comments on it<|endoftext|>\n",
      "<|startoftext|>By the end of the passage the writer intends to tell us that when you are lonely it s good to have a good way to express your happiness you must try to express your happiness the purpose of having a good way is to express our happiness not to be afraid of anyone<|endoftext|>\n",
      "<|startoftext|>According to the passage we can know that we can make a living by working hard in the office the school may be good for your health the quality of life changes from year to year<|endoftext|>\n",
      "<|startoftext|>The text is written mainly to tell how Chinese people have become popular in India how Chinese people are doing the development of Chinese culture in India<|endoftext|>\n",
      "<|startoftext|>Why did the man go into the office with no shoes To give something for the shoes To show what he had received He did nt put them on the table<|endoftext|>\n",
      "<|startoftext|>Which of the following is TRUE The author can use her English when she wants to She s afraid if she is told not to use her\n",
      "\n",
      "[410 | 1812.82] loss=2.37 avg=2.36\n",
      "[420 | 1856.03] loss=2.27 avg=2.36\n",
      "[430 | 1899.23] loss=2.31 avg=2.36\n",
      "[440 | 1942.43] loss=2.16 avg=2.35\n",
      "[450 | 1985.63] loss=2.21 avg=2.35\n",
      "[460 | 2028.83] loss=2.11 avg=2.34\n",
      "[470 | 2071.90] loss=2.21 avg=2.34\n",
      "[480 | 2114.95] loss=2.12 avg=2.33\n",
      "[490 | 2158.15] loss=2.25 avg=2.33\n",
      "[500 | 2201.36] loss=2.24 avg=2.33\n",
      "Saving checkpoint/run1/model-500\n",
      "[510 | 2247.67] loss=2.08 avg=2.32\n",
      "[520 | 2290.87] loss=2.13 avg=2.32\n",
      "[530 | 2334.08] loss=2.11 avg=2.31\n",
      "[540 | 2377.28] loss=2.09 avg=2.31\n",
      "[550 | 2420.48] loss=2.13 avg=2.30\n",
      "[560 | 2463.63] loss=2.28 avg=2.30\n",
      "[570 | 2506.77] loss=2.19 avg=2.30\n",
      "[580 | 2549.90] loss=2.02 avg=2.29\n",
      "[590 | 2593.02] loss=2.08 avg=2.29\n",
      "[600 | 2636.21] loss=2.29 avg=2.29\n",
      "======== SAMPLE 1 ========\n",
      " the passage If you want to buy a beautiful watch you have to take an examination on it If you want to see some birds on a big lake you must take an aerial tour on it The most beautiful of all is the lake 's white colour The best one is the white colour of the lake<|endoftext|>\n",
      "<|startoftext|>The passage focuses on the possible cause for the fire in the past the damage produced by the water shortage the public image of the fire<|endoftext|>\n",
      "<|startoftext|>At present people ca n't buy shoes because the price of the shoes is too high they will pay extra money to buy shoes the money from retailers in the UK is too large them will pay extra money to buy shoes<|endoftext|>\n",
      "<|startoftext|>Why did the young man decide to go back home To have a chat with his friends To make friends at home<|endoftext|>\n",
      "<|startoftext|>Who wrote the passage Students from all universities in England Students with a degree from a British college Students with English speaking friends<|endoftext|>\n",
      "<|startoftext|>From the passage we can infer that there 'd some problems in the new car the car is not easy to drive the new car is much lighter than the old one<|endoftext|>\n",
      "<|startoftext|>Which topic is NOT an argument between man and woman The relationship between people and other animals A common language in modern people The relationship between people and animals How the relationship between people and animals was established<|endoftext|>\n",
      "<|startoftext|>The passage was written to express their deep emotional feelings to show a lot of sympathy for the parents<|endoftext|>\n",
      "<|startoftext|>Which of the following factors is most responsible for the decline of oil prices The increasing water supplies The decreasing oil prices Energy supply<|endoftext|>\n",
      "<|startoftext|>What would be the best title for the passage The rise of the number of Chinese tourists The decline of tourism in Chinese<|endoftext|>\n",
      "<|startoftext|>The research carried out by a team of scientists shows that people should think about the meaning and seriousness of their dreams one should be able to predict and choose his dreams one must always be patient one s dreams should reveal one s future<|endoftext|>\n",
      "<|startoftext|>What is the advantage of a high speed rail system over the rush tracks The benefits can be reduced People and economic growth<|endoftext|>\n",
      "<|startoftext|>What can be inferred about the relationship between the public and businesses in the past The public has been successful in producing goods and services The public has been responsible for the establishment of businesses It was all for the benefit of businessmen The public still is today responsible for the establishment of businesses<|endoftext|>\n",
      "<|startoftext|>All the members of the author 's family are from the US The author s family is from Australia The members of the author s family are from the US<|endoftext|>\n",
      "<|startoftext|>The passage is written mainly to tell the readers the importance of books on your books how to make your books available in the bookstore how to book your books on time how to find the best books about your books how to book your books in the theatre<|endoftext|>\n",
      "<|startoftext|>Which topic most people care about Most problems at school People having problems at school<|endoftext|>\n",
      "<|startoftext|>Why is this passage mainly about the topic of social media which can affect teens social media addiction a topic of social media which has consequences for teens social media problems teens social media addiction a topic of social media which has repercussions for teens<|endoftext|>\n",
      "<|startoftext|>What is the main idea of the passage The changes made to Chinese people 's lives The new name of Chinese for their birthday People s names The new name of the Chinese for their birthday<|endoftext|>\n",
      "<|startoftext|>Which of the following is NOT true according to the writer Chinese and English are one language the same at first The writer has an unforgettable experience when making food at home Chinese and English have different meanings<|endoftext|>\n",
      "<|startoftext|>Which of the following is NOT TRUE about the passage The author 's family 's opinion is very different from the rest Americans are not as rich as they are The author s family is good at money making The author s family is more expensive than others<|endoftext|>\n",
      "<|startoftext|>Which of the following statements is TRUE If you want to know if you can receive payment you should write to the address given in the Pay\n",
      "\n",
      "[610 | 2696.98] loss=2.01 avg=2.28\n",
      "[620 | 2740.19] loss=1.89 avg=2.27\n",
      "[630 | 2783.23] loss=2.17 avg=2.27\n",
      "[640 | 2826.28] loss=2.04 avg=2.27\n",
      "[650 | 2869.39] loss=2.18 avg=2.26\n",
      "[660 | 2912.50] loss=2.22 avg=2.26\n",
      "[670 | 2955.60] loss=2.00 avg=2.26\n",
      "[680 | 2998.81] loss=2.07 avg=2.25\n",
      "[690 | 3041.94] loss=2.24 avg=2.25\n",
      "[700 | 3085.11] loss=2.15 avg=2.25\n",
      "[710 | 3128.31] loss=2.11 avg=2.25\n",
      "[720 | 3171.52] loss=2.00 avg=2.24\n",
      "[730 | 3214.71] loss=2.17 avg=2.24\n",
      "[740 | 3257.82] loss=2.17 avg=2.24\n",
      "[750 | 3300.98] loss=2.08 avg=2.24\n",
      "[760 | 3344.10] loss=2.02 avg=2.23\n",
      "[770 | 3387.25] loss=1.98 avg=2.23\n",
      "[780 | 3430.42] loss=2.19 avg=2.23\n",
      "[790 | 3473.55] loss=1.91 avg=2.22\n",
      "[800 | 3516.69] loss=2.14 avg=2.22\n",
      "======== SAMPLE 1 ========\n",
      "endoftext|>\n",
      "<|startoftext|>What will happen now the writer 's son will be absent from his family for a short time The family will not let him play outside all summer s The writer s son will take care of his son s new home The writer s child will leave for a new country<|endoftext|>\n",
      "<|startoftext|>According to the author one of the important advantages of online services is that they can make a lot of new friends they can make people use the Internet they will be able to do a lot of useful things<|endoftext|>\n",
      "<|startoftext|>Mr White will be unable to go to sleep at night because he has a heart infection he does nt like sleeping in the night time<|endoftext|>\n",
      "<|startoftext|>If you have a great love the father will always be with you go from child to child try to have more children<|endoftext|>\n",
      "<|startoftext|>Which one is right He has a car He goes shopping He chats with his children<|endoftext|>\n",
      "<|startoftext|>It is important for us to have some basic knowledge of foreign languages before going abroad to keep up with the technology to study every language in our life<|endoftext|>\n",
      "<|startoftext|>What did the little girl do to her daughter She told her daughter she had something wrong with her daughter<|endoftext|>\n",
      "<|startoftext|>Why is life a blessing Because we can use whatever we choose for our life is as wonderful as its appearance is free from diseases and other trouble Because it can never get old like our beautiful baby<|endoftext|>\n",
      "<|startoftext|>In ancient Spain people ate green food which had a bitter taste was more palatable than sugar but was not necessarily healthy<|endoftext|>\n",
      "<|startoftext|>What can be the best title for the article The Best of American Music The Origin and Change of American Music<|endoftext|>\n",
      "<|startoftext|>Which of the following statements is TRUE according the passage The two thirds of the women surveyed do n't want to see their husbands have a baby The women surveyed are mostly from the West The husband is a leading figure in the movement which is a movement for male equality in America American society remains a patriarchal one<|endoftext|>\n",
      "<|startoftext|>Which of the following is RIGHT about the writer 's experience We never feel shy about expressing our feelings All of us have an equal right to express an emotion if we wish to make friends in return<|endoftext|>\n",
      "<|startoftext|>The best title of the passage might be What Is a True Boy Scout What Kind of Boy Scout Is Right The Development of Boy Scout Laws How Boy Scouts Became the Modern World s Best<|endoftext|>\n",
      "<|startoftext|>What is one of the reasons why some poor kids are staying with relatives for lack of money A growing population of black Africans The blacks prefer to stay with relatives in America Many parents choose to stay with relatives in America The blacks have little money to spend<|endoftext|>\n",
      "<|startoftext|>On November 5th New York will be the second date of the 2112 Beijing Olympic Games the date that China is one of the four sports on the calendar The date on which China is the first country under the Olympic flag<|endoftext|>\n",
      "<|startoftext|>Many children in poor areas may have bad jobs may live at the present time<|endoftext|>\n",
      "<|startoftext|>Which of the following ideas does n't belong to the above mentioned lifestyle lifestyle is best lifestyle is the most important lifestyle is a good choice of family life<|endoftext|>\n",
      "<|startoftext|>What can we learn from the passage Those who take yoga classes for a short time should be paid for it Yoga is one of the most important things to us and it s important to show your devotion to it More study and practice is necessary for proper exercise<|endoftext|>\n",
      "<|startoftext|>The writer thinks a person 's success lies in his mental capacity has a mental ability on purpose<|endoftext|>\n",
      "<|startoftext|>Which of the following is true according to the passage People are less content when they are in their childhood The writer was once asked to stop telling these funny stories People should do more shopping if they wish to have a happy childhood<|endoftext|>\n",
      "<|startoftext|>What 's the main idea of the passage To attract attention of all nations To emphasize China s cultural achievements to win the Nobel Prize To explain why China has taken the global stage\n",
      "\n",
      "[810 | 3576.73] loss=2.07 avg=2.22\n",
      "[820 | 3619.93] loss=1.99 avg=2.21\n",
      "[830 | 3663.13] loss=2.04 avg=2.21\n",
      "[840 | 3706.34] loss=2.03 avg=2.21\n",
      "[850 | 3749.45] loss=1.82 avg=2.20\n",
      "[860 | 3792.59] loss=1.92 avg=2.20\n",
      "[870 | 3835.72] loss=1.79 avg=2.19\n",
      "[880 | 3878.86] loss=2.07 avg=2.19\n",
      "[890 | 3922.06] loss=2.04 avg=2.19\n",
      "[900 | 3965.26] loss=1.76 avg=2.18\n",
      "[910 | 4008.46] loss=1.90 avg=2.17\n",
      "[920 | 4051.67] loss=1.89 avg=2.17\n",
      "[930 | 4094.78] loss=2.03 avg=2.17\n",
      "[940 | 4137.98] loss=1.94 avg=2.16\n",
      "[950 | 4181.08] loss=2.00 avg=2.16\n",
      "[960 | 4224.20] loss=1.98 avg=2.16\n",
      "[970 | 4267.34] loss=1.80 avg=2.15\n",
      "[980 | 4310.43] loss=1.95 avg=2.15\n",
      "[990 | 4353.57] loss=2.06 avg=2.15\n",
      "[1000 | 4396.69] loss=1.85 avg=2.14\n",
      "Saving checkpoint/run1/model-1000\n",
      "WARNING:tensorflow:From /usr/local/lib/python3.6/dist-packages/tensorflow/python/training/saver.py:960: remove_checkpoint (from tensorflow.python.training.checkpoint_management) is deprecated and will be removed in a future version.\n",
      "Instructions for updating:\n",
      "Use standard file APIs to delete files with this prefix.\n"
     ]
    }
   ],
   "source": [
    "sess = gpt2.start_tf_sess()\n",
    "gpt2.finetune(sess,\n",
    "             dataset = '/content/data.csv',\n",
    "             model_name='124M',\n",
    "             steps=1000,\n",
    "             restore_from='fresh',\n",
    "             run_name='run1',\n",
    "             print_every=10,\n",
    "             sample_every=200,\n",
    "             save_every=500)"
   ]
  },
  {
   "cell_type": "markdown",
   "metadata": {
    "colab_type": "text",
    "id": "lRwFx1xFjw3U"
   },
   "source": [
    "It took around 1 hour to fine tune the model on Google Colb using Nvidia Tesla K80 GPU, let's save the model first"
   ]
  },
  {
   "cell_type": "code",
   "execution_count": null,
   "metadata": {
    "colab": {},
    "colab_type": "code",
    "id": "2oo-Mknbkyz6"
   },
   "outputs": [],
   "source": [
    "gpt2.copy_checkpoint_to_gdrive(run_name='run1')"
   ]
  },
  {
   "cell_type": "code",
   "execution_count": null,
   "metadata": {
    "colab": {},
    "colab_type": "code",
    "id": "i24bwWjNZLec"
   },
   "outputs": [],
   "source": [
    "gpt2.copy_checkpoint_from_gdrive(run_name='run1')"
   ]
  },
  {
   "cell_type": "code",
   "execution_count": 18,
   "metadata": {
    "colab": {
     "base_uri": "https://localhost:8080/",
     "height": 125
    },
    "colab_type": "code",
    "id": "cNk1ub_CZ-2N",
    "outputId": "6f07e5ba-051d-435f-b353-9a125541de2d"
   },
   "outputs": [
    {
     "name": "stdout",
     "output_type": "stream",
     "text": [
      "Loading checkpoint checkpoint/run1/model-1000\n",
      "WARNING:tensorflow:From /usr/local/lib/python3.6/dist-packages/tensorflow/python/training/saver.py:1276: checkpoint_exists (from tensorflow.python.training.checkpoint_management) is deprecated and will be removed in a future version.\n",
      "Instructions for updating:\n",
      "Use standard file APIs to check for files with this prefix.\n",
      "INFO:tensorflow:Restoring parameters from checkpoint/run1/model-1000\n"
     ]
    }
   ],
   "source": [
    "sess = gpt2.start_tf_sess()\n",
    "gpt2.load_gpt2(sess, run_name='run1')"
   ]
  },
  {
   "cell_type": "code",
   "execution_count": 19,
   "metadata": {
    "colab": {
     "base_uri": "https://localhost:8080/",
     "height": 35
    },
    "colab_type": "code",
    "id": "JD3R9fpBRXYL",
    "outputId": "a3cb4e31-c6bf-4b12-fbbc-ae91d7ed85b2"
   },
   "outputs": [
    {
     "name": "stdout",
     "output_type": "stream",
     "text": [
      "Meals can be served\n"
     ]
    }
   ],
   "source": [
    "seed = str(df['question'][0])\n",
    "print(seed)"
   ]
  },
  {
   "cell_type": "code",
   "execution_count": 21,
   "metadata": {
    "colab": {
     "base_uri": "https://localhost:8080/",
     "height": 70
    },
    "colab_type": "code",
    "id": "OhM5REAckJg8",
    "outputId": "234660d9-61e1-4d3d-e8ac-421daeb82899"
   },
   "outputs": [
    {
     "data": {
      "text/plain": [
       "[' in the morning at the cafe',\n",
       " ' only at the cafe Cafe della Suave La Forum',\n",
       " ' in 3 parts']"
      ]
     },
     "execution_count": 21,
     "metadata": {
      "tags": []
     },
     "output_type": "execute_result"
    }
   ],
   "source": [
    "gpt2.generate(sess,\n",
    "              length= len(seed.split()) + 15,\n",
    "              prefix=seed,\n",
    "              temperature=0.7,\n",
    "              top_k = 5,\n",
    "              top_p=0.9,\n",
    "              include_prefix = False,\n",
    "              truncate ='<|endoftext|>',\n",
    "              return_as_list=True,\n",
    "              nsamples=3,\n",
    "              batch_size=3\n",
    "              )\n"
   ]
  },
  {
   "cell_type": "markdown",
   "metadata": {
    "colab_type": "text",
    "id": "A_PS_uqNjfV6"
   },
   "source": [
    "__We can see the GPT-2 Model is Generating Text which is making sense in context with the quesion text__\n",
    "\n",
    "__Let's generate Distractors for test set__"
   ]
  },
  {
   "cell_type": "code",
   "execution_count": 22,
   "metadata": {
    "colab": {
     "base_uri": "https://localhost:8080/",
     "height": 202
    },
    "colab_type": "code",
    "id": "yRD7qLEcJD00",
    "outputId": "8ae4e9ad-a15a-4743-f493-51fcd80d53ed"
   },
   "outputs": [
    {
     "data": {
      "text/html": [
       "<div>\n",
       "<style scoped>\n",
       "    .dataframe tbody tr th:only-of-type {\n",
       "        vertical-align: middle;\n",
       "    }\n",
       "\n",
       "    .dataframe tbody tr th {\n",
       "        vertical-align: top;\n",
       "    }\n",
       "\n",
       "    .dataframe thead th {\n",
       "        text-align: right;\n",
       "    }\n",
       "</style>\n",
       "<table border=\"1\" class=\"dataframe\">\n",
       "  <thead>\n",
       "    <tr style=\"text-align: right;\">\n",
       "      <th></th>\n",
       "      <th>question</th>\n",
       "      <th>answer_text</th>\n",
       "    </tr>\n",
       "  </thead>\n",
       "  <tbody>\n",
       "    <tr>\n",
       "      <th>0</th>\n",
       "      <td>What 'S the main idea of the text ?</td>\n",
       "      <td>The lack of career -- based courses in US high...</td>\n",
       "    </tr>\n",
       "    <tr>\n",
       "      <th>1</th>\n",
       "      <td>In the summer high season , Finland does nt se...</td>\n",
       "      <td>the sun is out at night</td>\n",
       "    </tr>\n",
       "    <tr>\n",
       "      <th>2</th>\n",
       "      <td>If you want to apply for Chinese Business Inte...</td>\n",
       "      <td>have to get confirmed at least twice</td>\n",
       "    </tr>\n",
       "    <tr>\n",
       "      <th>3</th>\n",
       "      <td>That afternoon , the boy 's clothes were dry b...</td>\n",
       "      <td>nobody made room for him in the water .</td>\n",
       "    </tr>\n",
       "    <tr>\n",
       "      <th>4</th>\n",
       "      <td>Which of the following statements is NOT true ?</td>\n",
       "      <td>There are twelve countries in the World Wildli...</td>\n",
       "    </tr>\n",
       "  </tbody>\n",
       "</table>\n",
       "</div>"
      ],
      "text/plain": [
       "                                            question                                        answer_text\n",
       "0                What 'S the main idea of the text ?  The lack of career -- based courses in US high...\n",
       "1  In the summer high season , Finland does nt se...                            the sun is out at night\n",
       "2  If you want to apply for Chinese Business Inte...               have to get confirmed at least twice\n",
       "3  That afternoon , the boy 's clothes were dry b...            nobody made room for him in the water .\n",
       "4    Which of the following statements is NOT true ?  There are twelve countries in the World Wildli..."
      ]
     },
     "execution_count": 22,
     "metadata": {
      "tags": []
     },
     "output_type": "execute_result"
    }
   ],
   "source": [
    "df_test.head()"
   ]
  },
  {
   "cell_type": "code",
   "execution_count": 23,
   "metadata": {
    "colab": {
     "base_uri": "https://localhost:8080/",
     "height": 35
    },
    "colab_type": "code",
    "id": "k3j0Y6ziJF50",
    "outputId": "f8bd288c-396e-4e29-89b2-23b107bc1b72"
   },
   "outputs": [
    {
     "name": "stdout",
     "output_type": "stream",
     "text": [
      "In the summer high season , Finland does nt seem to sleep because the sun is out at night\n"
     ]
    }
   ],
   "source": [
    "seed2 = str(df_test['question'][1]+\" \"+df_test['answer_text'][1])\n",
    "print(seed2)"
   ]
  },
  {
   "cell_type": "code",
   "execution_count": 24,
   "metadata": {
    "colab": {
     "base_uri": "https://localhost:8080/",
     "height": 90
    },
    "colab_type": "code",
    "id": "JDqJACaUJOwp",
    "outputId": "1696f1f4-5815-41b2-9526-82703e4906ba"
   },
   "outputs": [
    {
     "data": {
      "text/plain": [
       "['In the summer high season , Finland does nt seem to sleep because the sun is out at night it is in winter when the sun is shining<|endoftext|',\n",
       " 'In the summer high season , Finland does nt seem to sleep because the sun is out at night the temperature is low in winter people have to stay up late in order to',\n",
       " '']"
      ]
     },
     "execution_count": 24,
     "metadata": {
      "tags": []
     },
     "output_type": "execute_result"
    }
   ],
   "source": [
    "gpt2.generate(sess,\n",
    "              length=15,\n",
    "              prefix=seed2,\n",
    "              temperature=0.7,\n",
    "              top_k = 5,\n",
    "              top_p=0.9,\n",
    "              include_prefix = False,\n",
    "              truncate ='<|endoftext|>',\n",
    "              return_as_list=True,\n",
    "              nsamples=3,\n",
    "              batch_size=3\n",
    "              )\n"
   ]
  },
  {
   "cell_type": "code",
   "execution_count": null,
   "metadata": {
    "colab": {},
    "colab_type": "code",
    "id": "SSSn2KYKK3_t"
   },
   "outputs": [],
   "source": [
    "df_test['new'] = df_test['question'].apply(lambda x: fix_punt(x,punct)) +\" \"+df_test['answer_text'].apply(lambda x: fix_punt(x,punct))"
   ]
  },
  {
   "cell_type": "code",
   "execution_count": null,
   "metadata": {
    "colab": {},
    "colab_type": "code",
    "id": "45CgDGXoLPR8"
   },
   "outputs": [],
   "source": [
    "def gen_output(data):\n",
    "  return \", \".join(gpt2.generate(sess,\n",
    "                                length=15,\n",
    "                                prefix=str(data),\n",
    "                                temperature=0.7,\n",
    "                                top_k = 5,\n",
    "                                top_p=0.9,\n",
    "                                include_prefix = False,\n",
    "                                truncate ='<|endoftext|>',\n",
    "                                return_as_list=True,\n",
    "                                nsamples=3,\n",
    "                                batch_size=3\n",
    "                                )\n",
    "                  )"
   ]
  },
  {
   "cell_type": "code",
   "execution_count": null,
   "metadata": {
    "colab": {},
    "colab_type": "code",
    "id": "LDDw4b1nLRUJ"
   },
   "outputs": [],
   "source": [
    "df_test['distractor'] = df_test['new'].apply(lambda x: gen_output(x))\n"
   ]
  },
  {
   "cell_type": "code",
   "execution_count": null,
   "metadata": {
    "colab": {},
    "colab_type": "code",
    "id": "UYvGLL7kMnm4"
   },
   "outputs": [],
   "source": [
    "df_test.drop(labels=['new'], axis=1)"
   ]
  },
  {
   "cell_type": "code",
   "execution_count": null,
   "metadata": {
    "colab": {},
    "colab_type": "code",
    "id": "CwSU6mWWRIvz"
   },
   "outputs": [],
   "source": [
    "df_test.head()"
   ]
  },
  {
   "cell_type": "code",
   "execution_count": null,
   "metadata": {
    "colab": {},
    "colab_type": "code",
    "id": "nVJAjWacQN2S"
   },
   "outputs": [],
   "source": [
    "df_test.to_csv('submission.csv', index=False)\n"
   ]
  },
  {
   "cell_type": "code",
   "execution_count": null,
   "metadata": {
    "colab": {},
    "colab_type": "code",
    "id": "jgZo0M3R0PB8"
   },
   "outputs": [],
   "source": [
    "!cp /content/submission.csv /content/drive/My\\ Drive/"
   ]
  },
  {
   "cell_type": "code",
   "execution_count": null,
   "metadata": {
    "colab": {},
    "colab_type": "code",
    "id": "XL5_xhQ1t6GB"
   },
   "outputs": [],
   "source": []
  }
 ],
 "metadata": {
  "accelerator": "GPU",
  "colab": {
   "machine_shape": "hm",
   "name": "Untitled0.ipynb",
   "provenance": []
  },
  "kernelspec": {
   "display_name": "Python 3",
   "language": "python",
   "name": "python3"
  },
  "language_info": {
   "codemirror_mode": {
    "name": "ipython",
    "version": 3
   },
   "file_extension": ".py",
   "mimetype": "text/x-python",
   "name": "python",
   "nbconvert_exporter": "python",
   "pygments_lexer": "ipython3",
   "version": "3.7.4"
  }
 },
 "nbformat": 4,
 "nbformat_minor": 4
}
